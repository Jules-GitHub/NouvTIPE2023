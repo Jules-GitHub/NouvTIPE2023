{
 "cells": [
  {
   "cell_type": "code",
   "execution_count": 2,
   "metadata": {},
   "outputs": [],
   "source": [
    "import random\n",
    "\n",
    "N = 15\n",
    "\n",
    "x = [random.random() for _ in range(N)]\n",
    "y = [random.random() for _ in range(N)]\n",
    "\n",
    "points = [(x[i], y[i]) for i in range(N)]"
   ]
  },
  {
   "cell_type": "code",
   "execution_count": 3,
   "metadata": {},
   "outputs": [
    {
     "data": {
      "text/plain": [
       "<matplotlib.collections.PathCollection at 0x114e9df70>"
      ]
     },
     "execution_count": 3,
     "metadata": {},
     "output_type": "execute_result"
    },
    {
     "data": {
      "image/png": "[encoded data removed]",
      "text/plain": [
       "<Figure size 640x480 with 1 Axes>"
      ]
     },
     "metadata": {},
     "output_type": "display_data"
    }
   ],
   "source": [
    "import matplotlib.pyplot as plt\n",
    "\n",
    "plt.scatter(x, y)"
   ]
  },
  {
   "cell_type": "code",
   "execution_count": 4,
   "metadata": {},
   "outputs": [
    {
     "name": "stdout",
     "output_type": "stream",
     "text": [
      "[53, 69, 78, 6, 61, 70, 47, 64, 17, 20, 69, 16, 96, 18, 62]\n",
      "[3, 11, 8, 13, 9, 6, 0, 4, 14, 7, 1, 10, 5, 2, 12]\n"
     ]
    }
   ],
   "source": [
    "import math as m\n",
    "import functools\n",
    "\n",
    "graphe = []\n",
    "\n",
    "for i in range(N):\n",
    "    graphe.append([])\n",
    "    for j in range(N):\n",
    "        graphe[i].append(m.sqrt((x[i] - x[j])**2 + (y[i] - y[j])**2))\n",
    "\n",
    "heures = [random.randint(0, 100) for _ in range(N)]\n",
    "print(heures)\n",
    "\n",
    "def compare(i, j):\n",
    "    if (heures[i] < heures[j]):\n",
    "        return -1\n",
    "    elif (heures[i] > heures[j]):\n",
    "        return 1\n",
    "    else:\n",
    "        return 0\n",
    "\n",
    "indices = list(range(N))\n",
    "\n",
    "indices.sort(key=functools.cmp_to_key(compare))\n",
    "print(indices)"
   ]
  }
 ],
 "metadata": {
  "kernelspec": {
   "display_name": "Python 3.8.9 64-bit",
   "language": "python",
   "name": "python3"
  },
  "language_info": {
   "codemirror_mode": {
    "name": "ipython",
    "version": 3
   },
   "file_extension": ".py",
   "mimetype": "text/x-python",
   "name": "python",
   "nbconvert_exporter": "python",
   "pygments_lexer": "ipython3",
   "version": "3.9.6"
  },
  "orig_nbformat": 4,
  "vscode": {
   "interpreter": {
    "hash": "31f2aee4e71d21fbe5cf8b01ff0e069b9275f58929596ceb00d14d90e3e16cd6"
   }
  }
 },
 "nbformat": 4,
 "nbformat_minor": 2
}
